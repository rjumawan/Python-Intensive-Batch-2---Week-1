{
 "cells": [
  {
   "cell_type": "code",
   "execution_count": 1,
   "metadata": {},
   "outputs": [
    {
     "name": "stdout",
     "output_type": "stream",
     "text": [
      "Hello, world!\n"
     ]
    }
   ],
   "source": [
    "print (\"Hello, world!\")"
   ]
  },
  {
   "cell_type": "markdown",
   "metadata": {
    "raw_mimetype": "text/html"
   },
   "source": [
    "Print the type of the ff:"
   ]
  },
  {
   "cell_type": "code",
   "execution_count": 9,
   "metadata": {},
   "outputs": [
    {
     "data": {
      "text/plain": [
       "int"
      ]
     },
     "execution_count": 9,
     "metadata": {},
     "output_type": "execute_result"
    }
   ],
   "source": [
    "type(2)"
   ]
  },
  {
   "cell_type": "code",
   "execution_count": 10,
   "metadata": {},
   "outputs": [
    {
     "data": {
      "text/plain": [
       "float"
      ]
     },
     "execution_count": 10,
     "metadata": {},
     "output_type": "execute_result"
    }
   ],
   "source": [
    "type(42.0)"
   ]
  },
  {
   "cell_type": "code",
   "execution_count": 11,
   "metadata": {},
   "outputs": [
    {
     "data": {
      "text/plain": [
       "str"
      ]
     },
     "execution_count": 11,
     "metadata": {},
     "output_type": "execute_result"
    }
   ],
   "source": [
    "type('Data Science')"
   ]
  },
  {
   "cell_type": "code",
   "execution_count": 12,
   "metadata": {},
   "outputs": [
    {
     "data": {
      "text/plain": [
       "bool"
      ]
     },
     "execution_count": 12,
     "metadata": {},
     "output_type": "execute_result"
    }
   ],
   "source": [
    "type(True)"
   ]
  },
  {
   "cell_type": "code",
   "execution_count": 13,
   "metadata": {},
   "outputs": [
    {
     "data": {
      "text/plain": [
       "NoneType"
      ]
     },
     "execution_count": 13,
     "metadata": {},
     "output_type": "execute_result"
    }
   ],
   "source": [
    "type(None)"
   ]
  },
  {
   "cell_type": "markdown",
   "metadata": {
    "collapsed": true
   },
   "source": [
    "What are the two types of syntax rules?"
   ]
  },
  {
   "cell_type": "markdown",
   "metadata": {},
   "source": [
    "Use Python to solve this: If you run a 10 kilometer race in 42 minutes 42 seconds, what is your average pace (time per mile in minutes and seconds)? What is your average speed in miles per hour?"
   ]
  },
  {
   "cell_type": "code",
   "execution_count": 4,
   "metadata": {},
   "outputs": [
    {
     "name": "stdout",
     "output_type": "stream",
     "text": [
      "2562.0\n"
     ]
    }
   ],
   "source": [
    "TotalSecByKm = float(42*60 +42)\n",
    "print(TotalSecByKm)"
   ]
  },
  {
   "cell_type": "code",
   "execution_count": 5,
   "metadata": {},
   "outputs": [
    {
     "name": "stdout",
     "output_type": "stream",
     "text": [
      "6.215040397762586\n"
     ]
    }
   ],
   "source": [
    "KmToMi = float(10/1.609)\n",
    "print(KmToMi)"
   ]
  },
  {
   "cell_type": "code",
   "execution_count": 6,
   "metadata": {},
   "outputs": [
    {
     "name": "stdout",
     "output_type": "stream",
     "text": [
      "412.2258\n"
     ]
    }
   ],
   "source": [
    "SecPerMi = float(TotalSecByKm/KmToMi)\n",
    "print(SecPerMi)"
   ]
  },
  {
   "cell_type": "code",
   "execution_count": 7,
   "metadata": {},
   "outputs": [
    {
     "name": "stdout",
     "output_type": "stream",
     "text": [
      "6.87043\n"
     ]
    }
   ],
   "source": [
    "MinPerMi = float(SecPerMi/60)\n",
    "print(MinPerMi)"
   ]
  },
  {
   "cell_type": "code",
   "execution_count": 8,
   "metadata": {},
   "outputs": [
    {
     "name": "stdout",
     "output_type": "stream",
     "text": [
      "8.733077842289347\n"
     ]
    }
   ],
   "source": [
    "MiPerHr = float(60/MinPerMi)\n",
    "print(MiPerHr)"
   ]
  },
  {
   "cell_type": "code",
   "execution_count": 19,
   "metadata": {},
   "outputs": [
    {
     "name": "stdout",
     "output_type": "stream",
     "text": [
      "52.22579999999999\n"
     ]
    }
   ],
   "source": [
    "Remainder = float(MinPerMi - 6)\n",
    "Sec = float(60 * Remainder)\n",
    "print(Sec)"
   ]
  },
  {
   "cell_type": "code",
   "execution_count": 39,
   "metadata": {},
   "outputs": [
    {
     "name": "stdout",
     "output_type": "stream",
     "text": [
      "The average speed in miles per hour is :\n",
      "52\n",
      "The total run in miles is :\n",
      "8.74\n"
     ]
    }
   ],
   "source": [
    "import math\n",
    "v=(MiPerHr)\n",
    "print('The average speed in miles per hour is :')\n",
    "print(int(Sec))\n",
    "\n",
    "print('The total run in miles is :')\n",
    "print(math.ceil(v*100)/100)"
   ]
  },
  {
   "cell_type": "code",
   "execution_count": 41,
   "metadata": {},
   "outputs": [
    {
     "name": "stdout",
     "output_type": "stream",
     "text": [
      "13950\n"
     ]
    }
   ],
   "source": [
    "number = 13950\n",
    "print(number)"
   ]
  },
  {
   "cell_type": "code",
   "execution_count": 43,
   "metadata": {},
   "outputs": [
    {
     "name": "stdout",
     "output_type": "stream",
     "text": [
      "13950\n"
     ]
    }
   ],
   "source": [
    "#print(list(number))\n",
    "print(str(number))\n",
    "#print(set(number))"
   ]
  },
  {
   "cell_type": "code",
   "execution_count": 46,
   "metadata": {},
   "outputs": [
    {
     "name": "stdout",
     "output_type": "stream",
     "text": [
      "18\n",
      "9\n"
     ]
    }
   ],
   "source": [
    "total = 0\n",
    "largest_digit = int(str(number)[0])\n",
    "\n",
    "for x in str(number):\n",
    "    x_in_integer_form = int(x)\n",
    "    total = total + x_in_integer_form\n",
    "    \n",
    "    if x_in_integer_form > largest_digit:\n",
    "        largest_digit = x_in_integer_form\n",
    "    \n",
    "print(total)\n",
    "print(largest_digit)"
   ]
  },
  {
   "cell_type": "code",
   "execution_count": 58,
   "metadata": {},
   "outputs": [
    {
     "name": "stdout",
     "output_type": "stream",
     "text": [
      "False\n",
      "True\n",
      "True\n",
      "True\n",
      "True\n"
     ]
    }
   ],
   "source": [
    "print(5 == 6)\n",
    "print(6%2 >=0)\n",
    "print(12%2 ==0 or 12%3 ==0)\n",
    "print(42 and True)\n",
    "print(105 // 60 ==1)"
   ]
  },
  {
   "cell_type": "code",
   "execution_count": 65,
   "metadata": {},
   "outputs": [
    {
     "name": "stdout",
     "output_type": "stream",
     "text": [
      "**********\n",
      "*********\n",
      "********\n",
      "*******\n",
      "******\n",
      "*****\n",
      "****\n",
      "***\n",
      "**\n",
      "*\n",
      "Blastoff!\n",
      "*****\n",
      "****\n",
      "***\n",
      "**\n",
      "*\n",
      "Blastoff\n"
     ]
    }
   ],
   "source": [
    "def blastoff(count):\n",
    "    print('*' * count)\n",
    "    count = count - 1;\n",
    "    if count > 0:\n",
    "        print_star(count)\n",
    "    else:\n",
    "        print('Blastoff!')\n",
    "\n",
    "        \n",
    "def kickass(count):\n",
    "    if count <=0:\n",
    "        print('Blastoff')\n",
    "    else:\n",
    "        print('*' * (count))\n",
    "        kickass(count-1)\n",
    "        \n",
    "blastoff(10)\n",
    "kickass(5)"
   ]
  },
  {
   "cell_type": "code",
   "execution_count": null,
   "metadata": {
    "collapsed": true
   },
   "outputs": [],
   "source": []
  },
  {
   "cell_type": "code",
   "execution_count": null,
   "metadata": {
    "collapsed": true
   },
   "outputs": [],
   "source": []
  }
 ],
 "metadata": {
  "celltoolbar": "Raw Cell Format",
  "kernelspec": {
   "display_name": "Python 3",
   "language": "python",
   "name": "python3"
  },
  "language_info": {
   "codemirror_mode": {
    "name": "ipython",
    "version": 3
   },
   "file_extension": ".py",
   "mimetype": "text/x-python",
   "name": "python",
   "nbconvert_exporter": "python",
   "pygments_lexer": "ipython3",
   "version": "3.6.1"
  }
 },
 "nbformat": 4,
 "nbformat_minor": 2
}
